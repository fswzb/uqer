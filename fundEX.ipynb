#https://uqer.io/community/share/586e445323a7d60051a3647a
import numpy as np
import pandas as pd

data_info = DataAPI.FundGet(category='E,H,B,M',listStatusCd='UN',operationMode='O',field='ticker,secShortName,category,establishDate,managementFullName,managerName,indexFund,isQdii')
data_info = data_info[data_info['establishDate'] < '20160101']  # 2016年之前成立的基金
data_info = data_info.drop_duplicates(subset=['category','establishDate','managementFullName'])  # 同一只基金A,B,C类去重
fund_assets = DataAPI.FundAssetsGet(reportDate='20160930', field='ticker,netAsset')  # 只有能够取到基金规模的参与统计排名
tmp_asset = pd.merge(data_info, fund_assets, how='inner', on='ticker')
tmp_asset.groupby('managementFullName').sum().sort('netAsset', ascending=False)[['netAsset']].head()
tmp_asset.groupby('category').sum()[['netAsset']] / tmp_asset.groupby('category').sum()[['netAsset']].sum().head()

# 指数型
tmp_asset[(tmp_asset['category']=='E') & (tmp_asset['indexFund']=='I')].groupby('managementFullName').sum()[['netAsset']].sort('netAsset', ascending=False).head()


### 主动管理型
tmp_asset[(tmp_asset['category'].isin(['E','H'])) & (tmp_asset['indexFund']!='I')].groupby('managementFullName').sum()[['netAsset']].sort('netAsset', ascending=False).head()
tmp_asset[tmp_asset['isQdii'] == 1].groupby('managementFullName').sum()[['netAsset']].sort('netAsset', ascending=False).head()

#QDII的规模排名
tmp_asset[tmp_asset['isQdii'] == 1].groupby('managementFullName').sum()[['netAsset']].sort('netAsset', ascending=False).head()




fund_16 = DataAPI.FundNavGet(dataDate=u"20161230", field='ticker,endDate,ADJUST_NAV')  
fund_15 = DataAPI.FundNavGet(dataDate=u"20151231", field='ticker,endDate,ADJUST_NAV')
fund_return = pd.merge(fund_15, fund_16, how='inner', on='ticker')
fund_return['return'] = fund_return['ADJUST_NAV_y'] / fund_return['ADJUST_NAV_x'] - 1

# 只取满足条件的基金
tmp_return = pd.merge(data_info[(data_info['isQdii']==0) & (data_info['indexFund']!='I')], fund_return[['ticker','return']], how='inner', on='ticker')

# 复权净值有问题的基金剔除(1 min)
bug_tickers = []
for i in tmp_return['ticker'].tolist():
    test = DataAPI.FundNavGet(ticker=i, beginDate='20151231', endDate='20161230')
    if abs(test['ADJUST_NAV'].pct_change().max()) > 0.1:
        bug_tickers.append(i)
        #print 'bug    ' + i)
        
tmp_return = tmp_return[~tmp_return['ticker'].isin(bug_tickers)]








#股票型收益排名前5基金公司
tmp_company = data_info.drop(['establishDate', 'indexFund', 'isQdii'], axis=1).merge(fund_assets, on='ticker', how='inner').merge(fund_return[['ticker', 'return']], on='ticker', how='inner')

equity_rank = pd.DataFrame(tmp_company[tmp_company['category']=='E'].groupby('managementFullName').apply(lambda x: sum(x['netAsset']/x['netAsset'].sum() * x['return']))).rename(columns={0:'综合收益'})
equity_rank['管理资产'] = tmp_company[tmp_company['category']=='E'].groupby('managementFullName').sum()['netAsset']
equity_rank['基金个数'] = tmp_company[tmp_company['category']=='E'].groupby('managementFullName').count()['ticker']
# equity_rank[equity_rank['基金个数'] >= 10].sort('综合收益', ascending=False).head()
equity_rank[equity_rank['管理资产'] >= 1e10].sort('综合收益', ascending=False).head()


#混合型收益排名前5基金公司
hunhe_rank = pd.DataFrame(tmp_company[tmp_company['category']=='H'].groupby('managementFullName').apply(lambda x: sum(x['netAsset']/x['netAsset'].sum() * x['return']))).rename(columns={0:'综合收益'})
hunhe_rank['管理资产'] = tmp_company[tmp_company['category']=='H'].groupby('managementFullName').sum()['netAsset']
hunhe_rank['基金个数'] = tmp_company[tmp_company['category']=='H'].groupby('managementFullName').count()['ticker']
# hunhe_rank[hunhe_rank['基金个数'] >= 20].sort('综合收益', ascending=False).head()
hunhe_rank[hunhe_rank['管理资产'] >= 3e10].sort('综合收益', ascending=False).head()


#债券型收益排名前5基金公司，综合考虑，博时、银华、鹏华、国泰均有不错表现
bond_rank = pd.DataFrame(tmp_company[tmp_company['category']=='B'].groupby('managementFullName').apply(lambda x: sum(x['netAsset']/x['netAsset'].sum() * x['return']))).rename(columns={0:'综合收益'})
bond_rank['管理资产'] = tmp_company[tmp_company['category']=='B'].groupby('managementFullName').sum()['netAsset']
bond_rank['基金个数'] = tmp_company[tmp_company['category']=='B'].groupby('managementFullName').count()['ticker']
bond_rank[bond_rank['基金个数'] >= 10].sort('综合收益', ascending=False).head()
# bond_rank[bond_rank['管理资产'] >= 2e10].sort('综合收益', ascending=False).head()


#风控相关排名
fund_1230 = DataAPI.FundNavGet(dataDate=u"20161230", field='ticker,endDate,ADJUST_NAV')  
fund_1128 = DataAPI.FundNavGet(dataDate=u"20161128", field='ticker,endDate,ADJUST_NAV')
fund_return1 = pd.merge(fund_1128, fund_1230, how='inner', on='ticker')
fund_return1['return'] = fund_return1['ADJUST_NAV_y'] / fund_return1['ADJUST_NAV_x'] - 1
tmp_risk = pd.merge(data_info[(data_info['category']=='B') & (data_info['isQdii']==0) & (data_info['indexFund']!='I')], fund_return1[['ticker','return']], how='inner', on='ticker').drop(['establishDate','indexFund','isQdii'], axis=1).merge(fund_assets, how='inner', on='ticker')
tmp_risk.mean()

#债券型基金公司的表现分析，银华、博时、招商在债券型基金方面应该算是老司机，兼具规模、收益和风控三方面的优异表现
risk_manage = pd.DataFrame(tmp_risk.groupby('managementFullName').apply(lambda x: sum(x['netAsset']/x['netAsset'].sum() * x['return']))).rename(columns={0:'综合回撤水平'})
risk_manage['管理资产'] = tmp_risk.groupby('managementFullName').sum()['netAsset']
risk_manage['基金个数'] = tmp_risk.groupby('managementFullName').count()['ticker']
risk_manage[risk_manage['管理资产'] > 2e10].sort('综合回撤水平', ascending=False).head()


################################################################################

#股票类年度10强基金，如下所示，最好收益为17.96%
tmp_return[tmp_return['category']=='E'].sort('return', ascending=False).head(10)

#混合型基金年度10强，最高的高达29.8%
#tmp_return[tmp_return['category']=='H'].sort('return', ascending=False).head(10)

#债券型年度10强，最高的为11.35%
#tmp_return[tmp_return['category']=='B'].sort('return', ascending=False).head(10)

#tmp_return[tmp_return['category']=='O'].sort('return', ascending=False).head(10)
################################################################################

