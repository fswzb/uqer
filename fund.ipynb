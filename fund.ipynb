# Date: 2017.03.23
# Author : Adair

#基金编码
ticker = ['160706'] 


for i in ticker:
    #获取基金
    def FundGet(): 
        return DataAPI.FundGet(etfLof=u"",secID=u"",ticker=i,category=u"",idxID=u"",idxTicker=u"",listStatusCd=u"",operationMode=u"",field=u"",pandas="1")
    
    #基金历史净值(货币型,短期理财债券型除外)
    def FundNavGet(beginDate='' , endDate=''):
        return DataAPI.FundNavGet(dataDate=u"",secID=u"",ticker=u"000001",beginDate=u"20140101",endDate=u"20141231",field=u"",pandas="1")
    
    #基金历史收益(货币型,短期理财债券型)
    def FundDivmGet(beginDate='' , endDate=''): 
        return DataAPI.FundDivmGet(dataDate=u"",secID=u"",ticker=i,beginDate=beginDate,endDate=endDate,field=u"",pandas="1")
    
    #基金历史净值(货币型,短期理财债券型除外)
    def FundNavGet(beginDate='' , endDate=''): 
        return DataAPI.FundNavGet(dataDate=u"",secID=u"",ticker=i,beginDate=beginDate,endDate=u"",field=endDate,pandas="1").sort('publishDate', ascending=False)
    
    #基金评级
    def FundRatingGet(beginDate='' , endDate=''): 
        return DataAPI.FundRatingGet(secID=u"",ticker=i,beginDate=beginDate,endDate=endDate,field=u"",pandas="1")  
    
    #基金净值调整
    def FundDivGet(beginDate='' , endDate=''): 
        return DataAPI.FundDivGet(secID=u"",ticker=i,adjustedType=u"",beginDate=beginDate,endDate=endDate,field=u"",pandas="1")
    
    #基金持仓明细
    def FundHoldingsGet(): 
        return  DataAPI.FundHoldingsGet(reportDate=u"",secID=u"",ticker=i,beginDate=u"",endDate=u"",secType="",field=u"",pandas="1").sort('reportDate', ascending=False)
    
    #基金持仓明细--开始时间  结束时间 
    def FundHoldingsGetDetail(beginDate='' , endDate=''): 
        return  DataAPI.FundHoldingsGet(reportDate=u"",secID=u"",ticker=i,beginDate=beginDate,endDate=endDate,secType="",field=u"",pandas="1").sort('ratioInNa', ascending=False)
    
    #基金资产配置
    def FundAssetsGet(beginDate='' , endDate=''):
        return DataAPI.FundAssetsGet(reportDate=u"",secID=u"",ticker=i,updateTime=u"",beginDate=beginDate,endDate=endDate,field=u"",pandas="1").sort('equityRatioInTa', ascending=False)
   
    #获取基金经理
    def FundManagerGet():
        return DataAPI.FundManagerGet(secID=u"",ticker=i,field=u"",pandas="1")
       
    
    #获取基金经理ID
    def personIDGet():
        FundManage = DataAPI.FundManagerGet(secID=u"",ticker=i,field=u"",pandas="1")
        personID =  list(FundManage['personID'])
        #将数字型转换字符型
        personID = [ str(x) for x in personID ]
        return personID
    
    #基金经理业绩
    def FundManagerPerformanceGet():
        for j in personIDGet():
            pass
        return DataAPI.FundManagerPerformanceGet(personID=j,category=u"",beginDate=u"",endDate=u"",field=u"",pandas="1").sort('endDate', ascending=False)

#获取基金
FundGet()

#基金历史收益(货币型,短期理财债券型)
#FundDivmGet(beginDate='20160101')

#基金历史净值(货币型,短期理财债券型除外)
#FundNavGet(beginDate='20161001')

#基金历史净值(货币型,短期理财债券型除外)
#FundNavGet(beginDate='20161001')

#基金评级
#FundRatingGet(beginDate='20161001' , endDate='')

#基金净值调整
#FundDivGet(beginDate='' , endDate='')

#基金持仓明细
#FundHoldingsGet()
FundHoldingsGetDetail(beginDate='20161001' )

#基金资产配置
#FundAssetsGet(beginDate='20160101' , endDate='')
    
#获取基金经理
#FundManagerGet()

#基金经理业绩
#FundManagerPerformanceGet()
